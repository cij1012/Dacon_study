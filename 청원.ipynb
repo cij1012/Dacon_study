{
  "nbformat": 4,
  "nbformat_minor": 0,
  "metadata": {
    "kernelspec": {
      "display_name": "Python 3",
      "language": "python",
      "name": "python3"
    },
    "language_info": {
      "codemirror_mode": {
        "name": "ipython",
        "version": 3
      },
      "file_extension": ".py",
      "mimetype": "text/x-python",
      "name": "python",
      "nbconvert_exporter": "python",
      "pygments_lexer": "ipython3",
      "version": "3.8.3"
    },
    "colab": {
      "name": "청원.ipynb",
      "provenance": [],
      "include_colab_link": true
    }
  },
  "cells": [
    {
      "cell_type": "markdown",
      "metadata": {
        "id": "view-in-github",
        "colab_type": "text"
      },
      "source": [
        "<a href=\"https://colab.research.google.com/github/cij1012/Dacon_study/blob/main/%EC%B2%AD%EC%9B%90.ipynb\" target=\"_parent\"><img src=\"https://colab.research.google.com/assets/colab-badge.svg\" alt=\"Open In Colab\"/></a>"
      ]
    },
    {
      "cell_type": "code",
      "metadata": {
        "id": "1lTtFyYZAbUr"
      },
      "source": [
        "from google.colab import files\r\n",
        "myfile = fil"
      ],
      "execution_count": null,
      "outputs": []
    },
    {
      "cell_type": "code",
      "metadata": {
        "id": "eXTBoRsHAbUs"
      },
      "source": [
        "import pandas as pd\n",
        "import numpy as np\n",
        "import re\n",
        "from tqdm import tqdm\n",
        "import matplotlib.pyplot as plt"
      ],
      "execution_count": null,
      "outputs": []
    },
    {
      "cell_type": "code",
      "metadata": {
        "id": "Sl9UIKOIAbUs"
      },
      "source": [
        "train_data = pd.read_csv('/content/train.csv').iloc[:,1:].dropna(how='any')\n",
        "train_data.index = range(len(train_data))\n",
        "test_data = pd.read_csv('/content/test.csv').iloc[:,1:]\n",
        "submission = pd.read_csv('/content/sample_submission.csv')"
      ],
      "execution_count": null,
      "outputs": []
    },
    {
      "cell_type": "code",
      "metadata": {
        "colab": {
          "base_uri": "https://localhost:8080/"
        },
        "id": "s0Dzwjx5AbUt",
        "outputId": "76c83976-be06-4e42-c1da-c13af2467d9e"
      },
      "source": [
        "train_data.shape, test_data.shape"
      ],
      "execution_count": null,
      "outputs": [
        {
          "output_type": "execute_result",
          "data": {
            "text/plain": [
              "((39992, 2), (5000, 1))"
            ]
          },
          "metadata": {
            "tags": []
          },
          "execution_count": 4
        }
      ]
    },
    {
      "cell_type": "code",
      "metadata": {
        "colab": {
          "base_uri": "https://localhost:8080/",
          "height": 204
        },
        "id": "Is5EGf4MAbUt",
        "outputId": "466cca21-8a96-4092-880e-f98a8d2e0ab5"
      },
      "source": [
        "train_data.head()"
      ],
      "execution_count": null,
      "outputs": [
        {
          "output_type": "execute_result",
          "data": {
            "text/html": [
              "<div>\n",
              "<style scoped>\n",
              "    .dataframe tbody tr th:only-of-type {\n",
              "        vertical-align: middle;\n",
              "    }\n",
              "\n",
              "    .dataframe tbody tr th {\n",
              "        vertical-align: top;\n",
              "    }\n",
              "\n",
              "    .dataframe thead th {\n",
              "        text-align: right;\n",
              "    }\n",
              "</style>\n",
              "<table border=\"1\" class=\"dataframe\">\n",
              "  <thead>\n",
              "    <tr style=\"text-align: right;\">\n",
              "      <th></th>\n",
              "      <th>category</th>\n",
              "      <th>data</th>\n",
              "    </tr>\n",
              "  </thead>\n",
              "  <tbody>\n",
              "    <tr>\n",
              "      <th>0</th>\n",
              "      <td>2</td>\n",
              "      <td>신혼부부위한 주택정책 보다 보육시설 늘려주세요.. 국민세금으로 일부를 위한 정책펴지...</td>\n",
              "    </tr>\n",
              "    <tr>\n",
              "      <th>1</th>\n",
              "      <td>0</td>\n",
              "      <td>학교이름에 '남자'도 붙여주세요. 울산여자중학교에 재학중인 학생입니다 최근 양성평등...</td>\n",
              "    </tr>\n",
              "    <tr>\n",
              "      <th>2</th>\n",
              "      <td>1</td>\n",
              "      <td>빙상연맹, 대한축구협회등 각종 체육협회의 비리를 철저하게 밝혀주세요.. 최근 동계올...</td>\n",
              "    </tr>\n",
              "    <tr>\n",
              "      <th>3</th>\n",
              "      <td>1</td>\n",
              "      <td>티비 12세,15세 관람가도 연령확인 의무화 하자.. 제기 에전에 티비를 보다가 잠...</td>\n",
              "    </tr>\n",
              "    <tr>\n",
              "      <th>4</th>\n",
              "      <td>1</td>\n",
              "      <td>무더운 여름철엔 남성들도 시원한 자율복장을 해야. 무더운 여름철에는 남성들도 노넥타...</td>\n",
              "    </tr>\n",
              "  </tbody>\n",
              "</table>\n",
              "</div>"
            ],
            "text/plain": [
              "   category                                               data\n",
              "0         2  신혼부부위한 주택정책 보다 보육시설 늘려주세요.. 국민세금으로 일부를 위한 정책펴지...\n",
              "1         0  학교이름에 '남자'도 붙여주세요. 울산여자중학교에 재학중인 학생입니다 최근 양성평등...\n",
              "2         1  빙상연맹, 대한축구협회등 각종 체육협회의 비리를 철저하게 밝혀주세요.. 최근 동계올...\n",
              "3         1  티비 12세,15세 관람가도 연령확인 의무화 하자.. 제기 에전에 티비를 보다가 잠...\n",
              "4         1  무더운 여름철엔 남성들도 시원한 자율복장을 해야. 무더운 여름철에는 남성들도 노넥타..."
            ]
          },
          "metadata": {
            "tags": []
          },
          "execution_count": 5
        }
      ]
    },
    {
      "cell_type": "code",
      "metadata": {
        "colab": {
          "base_uri": "https://localhost:8080/",
          "height": 204
        },
        "id": "iHFE1lb9AbUt",
        "outputId": "19db119a-c330-4cb9-8711-eb9f519511f7"
      },
      "source": [
        "test_data.head()"
      ],
      "execution_count": null,
      "outputs": [
        {
          "output_type": "execute_result",
          "data": {
            "text/html": [
              "<div>\n",
              "<style scoped>\n",
              "    .dataframe tbody tr th:only-of-type {\n",
              "        vertical-align: middle;\n",
              "    }\n",
              "\n",
              "    .dataframe tbody tr th {\n",
              "        vertical-align: top;\n",
              "    }\n",
              "\n",
              "    .dataframe thead th {\n",
              "        text-align: right;\n",
              "    }\n",
              "</style>\n",
              "<table border=\"1\" class=\"dataframe\">\n",
              "  <thead>\n",
              "    <tr style=\"text-align: right;\">\n",
              "      <th></th>\n",
              "      <th>data</th>\n",
              "    </tr>\n",
              "  </thead>\n",
              "  <tbody>\n",
              "    <tr>\n",
              "      <th>0</th>\n",
              "      <td>소년법 폐지해주세요. 법 아래에서 보호받아야 할 아이들이\\n법으로 인해 보호받지 못...</td>\n",
              "    </tr>\n",
              "    <tr>\n",
              "      <th>1</th>\n",
              "      <td>국공립 유치원 증설에 관하여. 국공립 유치원 부지 학보와건립및 증설에\\n*지역 어린...</td>\n",
              "    </tr>\n",
              "    <tr>\n",
              "      <th>2</th>\n",
              "      <td>나경원파면. 나경원의원의  동계올림픽 위원을 파면해 주세요</td>\n",
              "    </tr>\n",
              "    <tr>\n",
              "      <th>3</th>\n",
              "      <td>국민위원에가 삼성편만들어요. 삼성에서 11년간  일하고 혈암과 백혈병 진단을 받은 ...</td>\n",
              "    </tr>\n",
              "    <tr>\n",
              "      <th>4</th>\n",
              "      <td>방과후,유치원,어린이집 영어교육을 유지시켜주세요. 저는 아이 셋 키우는 평범한 주부...</td>\n",
              "    </tr>\n",
              "  </tbody>\n",
              "</table>\n",
              "</div>"
            ],
            "text/plain": [
              "                                                data\n",
              "0  소년법 폐지해주세요. 법 아래에서 보호받아야 할 아이들이\\n법으로 인해 보호받지 못...\n",
              "1  국공립 유치원 증설에 관하여. 국공립 유치원 부지 학보와건립및 증설에\\n*지역 어린...\n",
              "2                   나경원파면. 나경원의원의  동계올림픽 위원을 파면해 주세요\n",
              "3  국민위원에가 삼성편만들어요. 삼성에서 11년간  일하고 혈암과 백혈병 진단을 받은 ...\n",
              "4  방과후,유치원,어린이집 영어교육을 유지시켜주세요. 저는 아이 셋 키우는 평범한 주부..."
            ]
          },
          "metadata": {
            "tags": []
          },
          "execution_count": 6
        }
      ]
    },
    {
      "cell_type": "markdown",
      "metadata": {
        "id": "JWMAntkMAbUu"
      },
      "source": [
        "데이터 전처리"
      ]
    },
    {
      "cell_type": "code",
      "metadata": {
        "id": "peaVUAz5AbUu"
      },
      "source": [
        "def clean_txt(txt):\n",
        "    corpus = []\n",
        "    for i in range(0, len(txt)):\n",
        "        review = re.sub(r'[@%\\\\*=()/~#&\\+á?\\xc3\\xa1\\-\\|\\.\\:\\;\\!\\-\\,\\_\\~\\$\\'\\\"]', '',str(txt[i])) # (1,2,3) 3에있는 1을 2로 대체\n",
        "        review = re.sub(r'\\d+','',str(txt[i])) # 숫자 제거\n",
        "        review = review.lower() # 소문자\n",
        "        review = re.sub(r'\\s+',' ',review) # 공백 제거\n",
        "        review = re.sub(r'<[^>]+>','',review) # Html 태그 제거 \n",
        "        review = re.sub(r'\\s',' ',review) # Html 태그 제거후 다시 공백제거\n",
        "        review = re.sub(r'^\\s+','',review) # 첫칸 공백 제거  --- ^ 뒤의 문자로 문자열이 시작\n",
        "        review = re.sub(r'\\s+$','',review) # 마지막칸 공백 제거 --- $ 앞의 문자로 문자열이 종료\n",
        "        corpus.append(review)\n",
        "    return corpus\n",
        "        "
      ],
      "execution_count": null,
      "outputs": []
    },
    {
      "cell_type": "code",
      "metadata": {
        "id": "KDmmIrrgAbUu"
      },
      "source": [
        "train_data.data = clean_txt(train_data.data)\n",
        "test_data.data = clean_txt(test_data.data)"
      ],
      "execution_count": null,
      "outputs": []
    },
    {
      "cell_type": "code",
      "metadata": {
        "colab": {
          "base_uri": "https://localhost:8080/",
          "height": 204
        },
        "id": "HNzJ5s98AbUv",
        "outputId": "f62a0bf3-acb8-44d8-bb90-9692bd06ad33"
      },
      "source": [
        "train_data.head()"
      ],
      "execution_count": null,
      "outputs": [
        {
          "output_type": "execute_result",
          "data": {
            "text/html": [
              "<div>\n",
              "<style scoped>\n",
              "    .dataframe tbody tr th:only-of-type {\n",
              "        vertical-align: middle;\n",
              "    }\n",
              "\n",
              "    .dataframe tbody tr th {\n",
              "        vertical-align: top;\n",
              "    }\n",
              "\n",
              "    .dataframe thead th {\n",
              "        text-align: right;\n",
              "    }\n",
              "</style>\n",
              "<table border=\"1\" class=\"dataframe\">\n",
              "  <thead>\n",
              "    <tr style=\"text-align: right;\">\n",
              "      <th></th>\n",
              "      <th>category</th>\n",
              "      <th>data</th>\n",
              "    </tr>\n",
              "  </thead>\n",
              "  <tbody>\n",
              "    <tr>\n",
              "      <th>0</th>\n",
              "      <td>2</td>\n",
              "      <td>신혼부부위한 주택정책 보다 보육시설 늘려주세요.. 국민세금으로 일부를 위한 정책펴지...</td>\n",
              "    </tr>\n",
              "    <tr>\n",
              "      <th>1</th>\n",
              "      <td>0</td>\n",
              "      <td>학교이름에 '남자'도 붙여주세요. 울산여자중학교에 재학중인 학생입니다 최근 양성평등...</td>\n",
              "    </tr>\n",
              "    <tr>\n",
              "      <th>2</th>\n",
              "      <td>1</td>\n",
              "      <td>빙상연맹, 대한축구협회등 각종 체육협회의 비리를 철저하게 밝혀주세요.. 최근 동계올...</td>\n",
              "    </tr>\n",
              "    <tr>\n",
              "      <th>3</th>\n",
              "      <td>1</td>\n",
              "      <td>티비 세,세 관람가도 연령확인 의무화 하자.. 제기 에전에 티비를 보다가 잠시 딴일...</td>\n",
              "    </tr>\n",
              "    <tr>\n",
              "      <th>4</th>\n",
              "      <td>1</td>\n",
              "      <td>무더운 여름철엔 남성들도 시원한 자율복장을 해야. 무더운 여름철에는 남성들도 노넥타...</td>\n",
              "    </tr>\n",
              "  </tbody>\n",
              "</table>\n",
              "</div>"
            ],
            "text/plain": [
              "   category                                               data\n",
              "0         2  신혼부부위한 주택정책 보다 보육시설 늘려주세요.. 국민세금으로 일부를 위한 정책펴지...\n",
              "1         0  학교이름에 '남자'도 붙여주세요. 울산여자중학교에 재학중인 학생입니다 최근 양성평등...\n",
              "2         1  빙상연맹, 대한축구협회등 각종 체육협회의 비리를 철저하게 밝혀주세요.. 최근 동계올...\n",
              "3         1  티비 세,세 관람가도 연령확인 의무화 하자.. 제기 에전에 티비를 보다가 잠시 딴일...\n",
              "4         1  무더운 여름철엔 남성들도 시원한 자율복장을 해야. 무더운 여름철에는 남성들도 노넥타..."
            ]
          },
          "metadata": {
            "tags": []
          },
          "execution_count": 9
        }
      ]
    },
    {
      "cell_type": "markdown",
      "metadata": {
        "id": "Gfxl2fKlAbUv"
      },
      "source": [
        "cleansing string punctuation"
      ]
    },
    {
      "cell_type": "code",
      "metadata": {
        "colab": {
          "base_uri": "https://localhost:8080/",
          "height": 222
        },
        "id": "J5RRYqQvAbUv",
        "outputId": "c7813369-0c43-4d67-9abf-2fe019652687"
      },
      "source": [
        "\"\"\"\n",
        "개행문자 제거\n",
        "\"\"\"\n",
        "\n",
        "\n",
        "train_data_text = list(train_data['data'])\n",
        "\n",
        "train_clear_text = []\n",
        "\n",
        "for i in tqdm(range(len(train_data_text))):\n",
        "    train_clear_text.append(str(train_data_text[i]).replace('\\\\n',''))  \n",
        "train_data['clear_text'] = train_clear_text\n",
        "train_data.head()"
      ],
      "execution_count": null,
      "outputs": [
        {
          "output_type": "stream",
          "text": [
            "100%|██████████| 39992/39992 [00:00<00:00, 376488.90it/s]\n"
          ],
          "name": "stderr"
        },
        {
          "output_type": "execute_result",
          "data": {
            "text/html": [
              "<div>\n",
              "<style scoped>\n",
              "    .dataframe tbody tr th:only-of-type {\n",
              "        vertical-align: middle;\n",
              "    }\n",
              "\n",
              "    .dataframe tbody tr th {\n",
              "        vertical-align: top;\n",
              "    }\n",
              "\n",
              "    .dataframe thead th {\n",
              "        text-align: right;\n",
              "    }\n",
              "</style>\n",
              "<table border=\"1\" class=\"dataframe\">\n",
              "  <thead>\n",
              "    <tr style=\"text-align: right;\">\n",
              "      <th></th>\n",
              "      <th>category</th>\n",
              "      <th>data</th>\n",
              "      <th>clear_text</th>\n",
              "    </tr>\n",
              "  </thead>\n",
              "  <tbody>\n",
              "    <tr>\n",
              "      <th>0</th>\n",
              "      <td>2</td>\n",
              "      <td>신혼부부위한 주택정책 보다 보육시설 늘려주세요.. 국민세금으로 일부를 위한 정책펴지...</td>\n",
              "      <td>신혼부부위한 주택정책 보다 보육시설 늘려주세요.. 국민세금으로 일부를 위한 정책펴지...</td>\n",
              "    </tr>\n",
              "    <tr>\n",
              "      <th>1</th>\n",
              "      <td>0</td>\n",
              "      <td>학교이름에 '남자'도 붙여주세요. 울산여자중학교에 재학중인 학생입니다 최근 양성평등...</td>\n",
              "      <td>학교이름에 '남자'도 붙여주세요. 울산여자중학교에 재학중인 학생입니다 최근 양성평등...</td>\n",
              "    </tr>\n",
              "    <tr>\n",
              "      <th>2</th>\n",
              "      <td>1</td>\n",
              "      <td>빙상연맹, 대한축구협회등 각종 체육협회의 비리를 철저하게 밝혀주세요.. 최근 동계올...</td>\n",
              "      <td>빙상연맹, 대한축구협회등 각종 체육협회의 비리를 철저하게 밝혀주세요.. 최근 동계올...</td>\n",
              "    </tr>\n",
              "    <tr>\n",
              "      <th>3</th>\n",
              "      <td>1</td>\n",
              "      <td>티비 세,세 관람가도 연령확인 의무화 하자.. 제기 에전에 티비를 보다가 잠시 딴일...</td>\n",
              "      <td>티비 세,세 관람가도 연령확인 의무화 하자.. 제기 에전에 티비를 보다가 잠시 딴일...</td>\n",
              "    </tr>\n",
              "    <tr>\n",
              "      <th>4</th>\n",
              "      <td>1</td>\n",
              "      <td>무더운 여름철엔 남성들도 시원한 자율복장을 해야. 무더운 여름철에는 남성들도 노넥타...</td>\n",
              "      <td>무더운 여름철엔 남성들도 시원한 자율복장을 해야. 무더운 여름철에는 남성들도 노넥타...</td>\n",
              "    </tr>\n",
              "  </tbody>\n",
              "</table>\n",
              "</div>"
            ],
            "text/plain": [
              "   category  ...                                         clear_text\n",
              "0         2  ...  신혼부부위한 주택정책 보다 보육시설 늘려주세요.. 국민세금으로 일부를 위한 정책펴지...\n",
              "1         0  ...  학교이름에 '남자'도 붙여주세요. 울산여자중학교에 재학중인 학생입니다 최근 양성평등...\n",
              "2         1  ...  빙상연맹, 대한축구협회등 각종 체육협회의 비리를 철저하게 밝혀주세요.. 최근 동계올...\n",
              "3         1  ...  티비 세,세 관람가도 연령확인 의무화 하자.. 제기 에전에 티비를 보다가 잠시 딴일...\n",
              "4         1  ...  무더운 여름철엔 남성들도 시원한 자율복장을 해야. 무더운 여름철에는 남성들도 노넥타...\n",
              "\n",
              "[5 rows x 3 columns]"
            ]
          },
          "metadata": {
            "tags": []
          },
          "execution_count": 10
        }
      ]
    },
    {
      "cell_type": "code",
      "metadata": {
        "colab": {
          "base_uri": "https://localhost:8080/",
          "height": 204
        },
        "id": "ISZUg4sOAbUv",
        "outputId": "eba5626d-a0e9-4ca9-f3b6-bc93b4c8ae9a"
      },
      "source": [
        "\"\"\"\n",
        "특수문자 제거\n",
        "\"\"\"\n",
        "train_clear_text = list(train_data['clear_text'])\n",
        "\n",
        "train_clear_text2 = []\n",
        "\n",
        "for text in train_clear_text:\n",
        "    temp = re.sub('[-=+,#:;//●<>▲\\?:^$.☆!★()Ⅰ@*\\\"※~>`\\'…》]', ' ', text)\n",
        "    train_clear_text2.append(temp)\n",
        "train_data['clear_text'] = train_clear_text2\n",
        "train_data.head()"
      ],
      "execution_count": null,
      "outputs": [
        {
          "output_type": "execute_result",
          "data": {
            "text/html": [
              "<div>\n",
              "<style scoped>\n",
              "    .dataframe tbody tr th:only-of-type {\n",
              "        vertical-align: middle;\n",
              "    }\n",
              "\n",
              "    .dataframe tbody tr th {\n",
              "        vertical-align: top;\n",
              "    }\n",
              "\n",
              "    .dataframe thead th {\n",
              "        text-align: right;\n",
              "    }\n",
              "</style>\n",
              "<table border=\"1\" class=\"dataframe\">\n",
              "  <thead>\n",
              "    <tr style=\"text-align: right;\">\n",
              "      <th></th>\n",
              "      <th>category</th>\n",
              "      <th>data</th>\n",
              "      <th>clear_text</th>\n",
              "    </tr>\n",
              "  </thead>\n",
              "  <tbody>\n",
              "    <tr>\n",
              "      <th>0</th>\n",
              "      <td>2</td>\n",
              "      <td>신혼부부위한 주택정책 보다 보육시설 늘려주세요.. 국민세금으로 일부를 위한 정책펴지...</td>\n",
              "      <td>신혼부부위한 주택정책 보다 보육시설 늘려주세요   국민세금으로 일부를 위한 정책펴지...</td>\n",
              "    </tr>\n",
              "    <tr>\n",
              "      <th>1</th>\n",
              "      <td>0</td>\n",
              "      <td>학교이름에 '남자'도 붙여주세요. 울산여자중학교에 재학중인 학생입니다 최근 양성평등...</td>\n",
              "      <td>학교이름에  남자 도 붙여주세요  울산여자중학교에 재학중인 학생입니다 최근 양성평등...</td>\n",
              "    </tr>\n",
              "    <tr>\n",
              "      <th>2</th>\n",
              "      <td>1</td>\n",
              "      <td>빙상연맹, 대한축구협회등 각종 체육협회의 비리를 철저하게 밝혀주세요.. 최근 동계올...</td>\n",
              "      <td>빙상연맹  대한축구협회등 각종 체육협회의 비리를 철저하게 밝혀주세요   최근 동계올...</td>\n",
              "    </tr>\n",
              "    <tr>\n",
              "      <th>3</th>\n",
              "      <td>1</td>\n",
              "      <td>티비 세,세 관람가도 연령확인 의무화 하자.. 제기 에전에 티비를 보다가 잠시 딴일...</td>\n",
              "      <td>티비 세 세 관람가도 연령확인 의무화 하자   제기 에전에 티비를 보다가 잠시 딴일...</td>\n",
              "    </tr>\n",
              "    <tr>\n",
              "      <th>4</th>\n",
              "      <td>1</td>\n",
              "      <td>무더운 여름철엔 남성들도 시원한 자율복장을 해야. 무더운 여름철에는 남성들도 노넥타...</td>\n",
              "      <td>무더운 여름철엔 남성들도 시원한 자율복장을 해야  무더운 여름철에는 남성들도 노넥타...</td>\n",
              "    </tr>\n",
              "  </tbody>\n",
              "</table>\n",
              "</div>"
            ],
            "text/plain": [
              "   category  ...                                         clear_text\n",
              "0         2  ...  신혼부부위한 주택정책 보다 보육시설 늘려주세요   국민세금으로 일부를 위한 정책펴지...\n",
              "1         0  ...  학교이름에  남자 도 붙여주세요  울산여자중학교에 재학중인 학생입니다 최근 양성평등...\n",
              "2         1  ...  빙상연맹  대한축구협회등 각종 체육협회의 비리를 철저하게 밝혀주세요   최근 동계올...\n",
              "3         1  ...  티비 세 세 관람가도 연령확인 의무화 하자   제기 에전에 티비를 보다가 잠시 딴일...\n",
              "4         1  ...  무더운 여름철엔 남성들도 시원한 자율복장을 해야  무더운 여름철에는 남성들도 노넥타...\n",
              "\n",
              "[5 rows x 3 columns]"
            ]
          },
          "metadata": {
            "tags": []
          },
          "execution_count": 11
        }
      ]
    },
    {
      "cell_type": "code",
      "metadata": {
        "colab": {
          "base_uri": "https://localhost:8080/",
          "height": 222
        },
        "id": "T-UNywhiAbUw",
        "outputId": "2da80c16-2fa1-41bb-de7f-71c2977dc4ee"
      },
      "source": [
        "\"\"\"\n",
        "test셋도 마찬가지로\n",
        "\"\"\"\n",
        "test_data_text = list(test_data['data'])\n",
        "\n",
        "test_clear_text = []\n",
        "\n",
        "for i in tqdm(range(len(test_data_text))):\n",
        "  test_clear_text.append(test_data_text[i].replace('\\\\n', ' '))\n",
        "test_data['clear_text'] = test_clear_text\n",
        "test_data.head()"
      ],
      "execution_count": null,
      "outputs": [
        {
          "output_type": "stream",
          "text": [
            "100%|██████████| 5000/5000 [00:00<00:00, 276672.78it/s]\n"
          ],
          "name": "stderr"
        },
        {
          "output_type": "execute_result",
          "data": {
            "text/html": [
              "<div>\n",
              "<style scoped>\n",
              "    .dataframe tbody tr th:only-of-type {\n",
              "        vertical-align: middle;\n",
              "    }\n",
              "\n",
              "    .dataframe tbody tr th {\n",
              "        vertical-align: top;\n",
              "    }\n",
              "\n",
              "    .dataframe thead th {\n",
              "        text-align: right;\n",
              "    }\n",
              "</style>\n",
              "<table border=\"1\" class=\"dataframe\">\n",
              "  <thead>\n",
              "    <tr style=\"text-align: right;\">\n",
              "      <th></th>\n",
              "      <th>data</th>\n",
              "      <th>clear_text</th>\n",
              "    </tr>\n",
              "  </thead>\n",
              "  <tbody>\n",
              "    <tr>\n",
              "      <th>0</th>\n",
              "      <td>소년법 폐지해주세요. 법 아래에서 보호받아야 할 아이들이\\n법으로 인해 보호받지 못...</td>\n",
              "      <td>소년법 폐지해주세요. 법 아래에서 보호받아야 할 아이들이 법으로 인해 보호받지 못하...</td>\n",
              "    </tr>\n",
              "    <tr>\n",
              "      <th>1</th>\n",
              "      <td>국공립 유치원 증설에 관하여. 국공립 유치원 부지 학보와건립및 증설에\\n*지역 어린...</td>\n",
              "      <td>국공립 유치원 증설에 관하여. 국공립 유치원 부지 학보와건립및 증설에 *지역 어린이...</td>\n",
              "    </tr>\n",
              "    <tr>\n",
              "      <th>2</th>\n",
              "      <td>나경원파면. 나경원의원의 동계올림픽 위원을 파면해 주세요</td>\n",
              "      <td>나경원파면. 나경원의원의 동계올림픽 위원을 파면해 주세요</td>\n",
              "    </tr>\n",
              "    <tr>\n",
              "      <th>3</th>\n",
              "      <td>국민위원에가 삼성편만들어요. 삼성에서 년간 일하고 혈암과 백혈병 진단을 받은 사람이...</td>\n",
              "      <td>국민위원에가 삼성편만들어요. 삼성에서 년간 일하고 혈암과 백혈병 진단을 받은 사람이...</td>\n",
              "    </tr>\n",
              "    <tr>\n",
              "      <th>4</th>\n",
              "      <td>방과후,유치원,어린이집 영어교육을 유지시켜주세요. 저는 아이 셋 키우는 평범한 주부...</td>\n",
              "      <td>방과후,유치원,어린이집 영어교육을 유지시켜주세요. 저는 아이 셋 키우는 평범한 주부...</td>\n",
              "    </tr>\n",
              "  </tbody>\n",
              "</table>\n",
              "</div>"
            ],
            "text/plain": [
              "                                                data                                         clear_text\n",
              "0  소년법 폐지해주세요. 법 아래에서 보호받아야 할 아이들이\\n법으로 인해 보호받지 못...  소년법 폐지해주세요. 법 아래에서 보호받아야 할 아이들이 법으로 인해 보호받지 못하...\n",
              "1  국공립 유치원 증설에 관하여. 국공립 유치원 부지 학보와건립및 증설에\\n*지역 어린...  국공립 유치원 증설에 관하여. 국공립 유치원 부지 학보와건립및 증설에 *지역 어린이...\n",
              "2                    나경원파면. 나경원의원의 동계올림픽 위원을 파면해 주세요                    나경원파면. 나경원의원의 동계올림픽 위원을 파면해 주세요\n",
              "3  국민위원에가 삼성편만들어요. 삼성에서 년간 일하고 혈암과 백혈병 진단을 받은 사람이...  국민위원에가 삼성편만들어요. 삼성에서 년간 일하고 혈암과 백혈병 진단을 받은 사람이...\n",
              "4  방과후,유치원,어린이집 영어교육을 유지시켜주세요. 저는 아이 셋 키우는 평범한 주부...  방과후,유치원,어린이집 영어교육을 유지시켜주세요. 저는 아이 셋 키우는 평범한 주부..."
            ]
          },
          "metadata": {
            "tags": []
          },
          "execution_count": 12
        }
      ]
    },
    {
      "cell_type": "code",
      "metadata": {
        "colab": {
          "base_uri": "https://localhost:8080/",
          "height": 204
        },
        "id": "J1mA1UeLAbUw",
        "outputId": "d869bf52-87a3-4de8-f3a7-c95cadaafb0e"
      },
      "source": [
        "test_clear_text = list(test_data['clear_text'])\n",
        "\n",
        "test_clear_text2 = []\n",
        "\n",
        "for text in test_clear_text:\n",
        "  temp = re.sub('[-=+,#:;//●<>▲\\?:^$.☆!★()Ⅰ@*\\\"※~>`\\'…》]', ' ', text)\n",
        "  test_clear_text2.append(temp)\n",
        "test_data['clear_text'] = test_clear_text2\n",
        "test_data.head()"
      ],
      "execution_count": null,
      "outputs": [
        {
          "output_type": "execute_result",
          "data": {
            "text/html": [
              "<div>\n",
              "<style scoped>\n",
              "    .dataframe tbody tr th:only-of-type {\n",
              "        vertical-align: middle;\n",
              "    }\n",
              "\n",
              "    .dataframe tbody tr th {\n",
              "        vertical-align: top;\n",
              "    }\n",
              "\n",
              "    .dataframe thead th {\n",
              "        text-align: right;\n",
              "    }\n",
              "</style>\n",
              "<table border=\"1\" class=\"dataframe\">\n",
              "  <thead>\n",
              "    <tr style=\"text-align: right;\">\n",
              "      <th></th>\n",
              "      <th>data</th>\n",
              "      <th>clear_text</th>\n",
              "    </tr>\n",
              "  </thead>\n",
              "  <tbody>\n",
              "    <tr>\n",
              "      <th>0</th>\n",
              "      <td>소년법 폐지해주세요. 법 아래에서 보호받아야 할 아이들이\\n법으로 인해 보호받지 못...</td>\n",
              "      <td>소년법 폐지해주세요  법 아래에서 보호받아야 할 아이들이 법으로 인해 보호받지 못하...</td>\n",
              "    </tr>\n",
              "    <tr>\n",
              "      <th>1</th>\n",
              "      <td>국공립 유치원 증설에 관하여. 국공립 유치원 부지 학보와건립및 증설에\\n*지역 어린...</td>\n",
              "      <td>국공립 유치원 증설에 관하여  국공립 유치원 부지 학보와건립및 증설에  지역 어린이...</td>\n",
              "    </tr>\n",
              "    <tr>\n",
              "      <th>2</th>\n",
              "      <td>나경원파면. 나경원의원의 동계올림픽 위원을 파면해 주세요</td>\n",
              "      <td>나경원파면  나경원의원의 동계올림픽 위원을 파면해 주세요</td>\n",
              "    </tr>\n",
              "    <tr>\n",
              "      <th>3</th>\n",
              "      <td>국민위원에가 삼성편만들어요. 삼성에서 년간 일하고 혈암과 백혈병 진단을 받은 사람이...</td>\n",
              "      <td>국민위원에가 삼성편만들어요  삼성에서 년간 일하고 혈암과 백혈병 진단을 받은 사람이...</td>\n",
              "    </tr>\n",
              "    <tr>\n",
              "      <th>4</th>\n",
              "      <td>방과후,유치원,어린이집 영어교육을 유지시켜주세요. 저는 아이 셋 키우는 평범한 주부...</td>\n",
              "      <td>방과후 유치원 어린이집 영어교육을 유지시켜주세요  저는 아이 셋 키우는 평범한 주부...</td>\n",
              "    </tr>\n",
              "  </tbody>\n",
              "</table>\n",
              "</div>"
            ],
            "text/plain": [
              "                                                data                                         clear_text\n",
              "0  소년법 폐지해주세요. 법 아래에서 보호받아야 할 아이들이\\n법으로 인해 보호받지 못...  소년법 폐지해주세요  법 아래에서 보호받아야 할 아이들이 법으로 인해 보호받지 못하...\n",
              "1  국공립 유치원 증설에 관하여. 국공립 유치원 부지 학보와건립및 증설에\\n*지역 어린...  국공립 유치원 증설에 관하여  국공립 유치원 부지 학보와건립및 증설에  지역 어린이...\n",
              "2                    나경원파면. 나경원의원의 동계올림픽 위원을 파면해 주세요                    나경원파면  나경원의원의 동계올림픽 위원을 파면해 주세요\n",
              "3  국민위원에가 삼성편만들어요. 삼성에서 년간 일하고 혈암과 백혈병 진단을 받은 사람이...  국민위원에가 삼성편만들어요  삼성에서 년간 일하고 혈암과 백혈병 진단을 받은 사람이...\n",
              "4  방과후,유치원,어린이집 영어교육을 유지시켜주세요. 저는 아이 셋 키우는 평범한 주부...  방과후 유치원 어린이집 영어교육을 유지시켜주세요  저는 아이 셋 키우는 평범한 주부..."
            ]
          },
          "metadata": {
            "tags": []
          },
          "execution_count": 13
        }
      ]
    },
    {
      "cell_type": "markdown",
      "metadata": {
        "id": "dVlDHj6WAbUw"
      },
      "source": [
        "Using Mecab for tokenizing"
      ]
    },
    {
      "cell_type": "code",
      "metadata": {
        "id": "Eq1Y5pOTAbUw"
      },
      "source": [
        "# !pip install konlpy"
      ],
      "execution_count": null,
      "outputs": []
    },
    {
      "cell_type": "code",
      "metadata": {
        "id": "AHUUJP5tCdah"
      },
      "source": [
        "# !git clone https://github.com/SOMJANG/Mecab-ko-for-Google-Colab.git"
      ],
      "execution_count": null,
      "outputs": []
    },
    {
      "cell_type": "code",
      "metadata": {
        "id": "P9YSzqxpCl30"
      },
      "source": [
        "# cd Mecab-ko-for-Google-Colab/"
      ],
      "execution_count": null,
      "outputs": []
    },
    {
      "cell_type": "code",
      "metadata": {
        "id": "z9B3aibWCt8H"
      },
      "source": [
        "# ! bash install_mecab-ko_on_colab190912.sh"
      ],
      "execution_count": null,
      "outputs": []
    },
    {
      "cell_type": "code",
      "metadata": {
        "id": "fraOe05nAbUx"
      },
      "source": [
        "from konlpy.tag import Mecab\n",
        "mecab = Mecab() # 윈도에서 Mecab 사용하기--https://hong-yp-ml-records.tistory.com/91"
      ],
      "execution_count": null,
      "outputs": []
    },
    {
      "cell_type": "code",
      "metadata": {
        "colab": {
          "base_uri": "https://localhost:8080/"
        },
        "id": "KWnNKT8WAbUx",
        "outputId": "0f83ff33-f099-4b92-fd3d-74393bef8e97"
      },
      "source": [
        "\"\"\"\n",
        "mecab.nouns 테스트\n",
        "\"\"\"\n",
        "\n",
        "mecab.nouns(list(train_data['clear_text'])[9])"
      ],
      "execution_count": null,
      "outputs": [
        {
          "output_type": "execute_result",
          "data": {
            "text/plain": [
              "['수백만',\n",
              " '원',\n",
              " '녹',\n",
              " '취록',\n",
              " '증거',\n",
              " '인정',\n",
              " '사람',\n",
              " '죄',\n",
              " '실직',\n",
              " '평생',\n",
              " '꽃뱀',\n",
              " '성매매',\n",
              " '범',\n",
              " '저',\n",
              " '년',\n",
              " '개월',\n",
              " '간',\n",
              " '주민',\n",
              " '등록증',\n",
              " '변조',\n",
              " '신상',\n",
              " '위조',\n",
              " '피의자',\n",
              " '동안',\n",
              " '협박',\n",
              " '폭행',\n",
              " '만남',\n",
              " '거부',\n",
              " '직장',\n",
              " '전화',\n",
              " '실직',\n",
              " '명',\n",
              " '가늠',\n",
              " '수',\n",
              " '동호인',\n",
              " '꽃뱀',\n",
              " '성매매',\n",
              " '범',\n",
              " '허위',\n",
              " '사실',\n",
              " '동영상',\n",
              " '유포',\n",
              " '저',\n",
              " '꽃뱀',\n",
              " '성매매',\n",
              " '범',\n",
              " '폭행',\n",
              " '범',\n",
              " '차례',\n",
              " '형사',\n",
              " '고소',\n",
              " '검찰',\n",
              " '조사',\n",
              " '중',\n",
              " '건과',\n",
              " '항고',\n",
              " '중',\n",
              " '건',\n",
              " '번',\n",
              " '소건',\n",
              " '범죄',\n",
              " '중',\n",
              " '건',\n",
              " '모욕죄',\n",
              " '기소',\n",
              " '제',\n",
              " '때',\n",
              " '상습',\n",
              " '범죄자',\n",
              " '피의자',\n",
              " '현재',\n",
              " '저',\n",
              " '위협',\n",
              " '목적',\n",
              " '제',\n",
              " '소속',\n",
              " '클럽',\n",
              " '밴드',\n",
              " '꽃뱀',\n",
              " '운운',\n",
              " '댓글',\n",
              " '게시',\n",
              " '정치',\n",
              " '인',\n",
              " '사',\n",
              " '년',\n",
              " '모',\n",
              " '시장',\n",
              " '친구',\n",
              " '년',\n",
              " '시장',\n",
              " '후보',\n",
              " '선거',\n",
              " '본부',\n",
              " '장',\n",
              " '현재',\n",
              " '민주당',\n",
              " '위원장',\n",
              " '친분',\n",
              " '과시',\n",
              " '돈',\n",
              " '구장',\n",
              " '허위',\n",
              " '사실',\n",
              " '유포',\n",
              " '동호인',\n",
              " '증인',\n",
              " '매수',\n",
              " '친구',\n",
              " '동호인',\n",
              " '거짓',\n",
              " '참고인',\n",
              " '진술',\n",
              " '등',\n",
              " '범죄',\n",
              " '방조',\n",
              " '저',\n",
              " '생각',\n",
              " '치',\n",
              " '악몽',\n",
              " '피의자',\n",
              " '목소리',\n",
              " '수차례',\n",
              " '쉼',\n",
              " '눈물',\n",
              " '피의자',\n",
              " '범죄',\n",
              " '수백만',\n",
              " '원',\n",
              " '녹',\n",
              " '취록',\n",
              " '증거',\n",
              " '제출',\n",
              " '증거',\n",
              " '저',\n",
              " '꽃뱀',\n",
              " '성매매',\n",
              " '폭행',\n",
              " '범',\n",
              " '제',\n",
              " '제출',\n",
              " '녹',\n",
              " '취록',\n",
              " '자료',\n",
              " '증거',\n",
              " '인정',\n",
              " '상습',\n",
              " '범죄자',\n",
              " '사회',\n",
              " '질서',\n",
              " '구속',\n",
              " '최고',\n",
              " '형벌']"
            ]
          },
          "metadata": {
            "tags": []
          },
          "execution_count": 19
        }
      ]
    },
    {
      "cell_type": "markdown",
      "metadata": {
        "id": "pSL1HOB2AbUx"
      },
      "source": [
        "불용어 처리"
      ]
    },
    {
      "cell_type": "code",
      "metadata": {
        "colab": {
          "base_uri": "https://localhost:8080/",
          "height": 204
        },
        "id": "MtZ-nRFJAbUx",
        "outputId": "d64be4b9-8412-4d45-d5e2-38c428cb325e"
      },
      "source": [
        "stop_df = pd.read_csv('/content/한국어불용어100.txt', sep = '\\t', header = None, names = ['형태','품사','비율'])\n",
        "stop_df.tail()"
      ],
      "execution_count": null,
      "outputs": [
        {
          "output_type": "execute_result",
          "data": {
            "text/html": [
              "<div>\n",
              "<style scoped>\n",
              "    .dataframe tbody tr th:only-of-type {\n",
              "        vertical-align: middle;\n",
              "    }\n",
              "\n",
              "    .dataframe tbody tr th {\n",
              "        vertical-align: top;\n",
              "    }\n",
              "\n",
              "    .dataframe thead th {\n",
              "        text-align: right;\n",
              "    }\n",
              "</style>\n",
              "<table border=\"1\" class=\"dataframe\">\n",
              "  <thead>\n",
              "    <tr style=\"text-align: right;\">\n",
              "      <th></th>\n",
              "      <th>형태</th>\n",
              "      <th>품사</th>\n",
              "      <th>비율</th>\n",
              "    </tr>\n",
              "  </thead>\n",
              "  <tbody>\n",
              "    <tr>\n",
              "      <th>95</th>\n",
              "      <td>원</td>\n",
              "      <td>NNB</td>\n",
              "      <td>0.000492</td>\n",
              "    </tr>\n",
              "    <tr>\n",
              "      <th>96</th>\n",
              "      <td>잘</td>\n",
              "      <td>MAG</td>\n",
              "      <td>0.000491</td>\n",
              "    </tr>\n",
              "    <tr>\n",
              "      <th>97</th>\n",
              "      <td>통하</td>\n",
              "      <td>VV</td>\n",
              "      <td>0.000487</td>\n",
              "    </tr>\n",
              "    <tr>\n",
              "      <th>98</th>\n",
              "      <td>소리</td>\n",
              "      <td>NNG</td>\n",
              "      <td>0.000486</td>\n",
              "    </tr>\n",
              "    <tr>\n",
              "      <th>99</th>\n",
              "      <td>놓</td>\n",
              "      <td>VX</td>\n",
              "      <td>0.000483</td>\n",
              "    </tr>\n",
              "  </tbody>\n",
              "</table>\n",
              "</div>"
            ],
            "text/plain": [
              "    형태   품사        비율\n",
              "95   원  NNB  0.000492\n",
              "96   잘  MAG  0.000491\n",
              "97  통하   VV  0.000487\n",
              "98  소리  NNG  0.000486\n",
              "99   놓   VX  0.000483"
            ]
          },
          "metadata": {
            "tags": []
          },
          "execution_count": 20
        }
      ]
    },
    {
      "cell_type": "code",
      "metadata": {
        "id": "U5KRTxF_AbUx"
      },
      "source": [
        "stop_df.loc[100] = '가'\n",
        "stop_df.loc[101] = '합니다'"
      ],
      "execution_count": null,
      "outputs": []
    },
    {
      "cell_type": "code",
      "metadata": {
        "id": "Jm9Ce0guAbUx"
      },
      "source": [
        "stop_words = list(stop_df.형태)"
      ],
      "execution_count": null,
      "outputs": []
    },
    {
      "cell_type": "markdown",
      "metadata": {
        "id": "JXBfR92WAbUy"
      },
      "source": [
        "outlier 삭제"
      ]
    },
    {
      "cell_type": "code",
      "metadata": {
        "id": "OOA1PnoVAbUy"
      },
      "source": [
        "ind_list = [24885, 14916, 14605, 6641, 17406, 26957, 2175, 6885, 8947, 14966, 8198, 25955, 39167,21707, 12678,\n",
        "           3023, 31971, 3730, 37153, 33481, 33369, 12927, 30773, 36431,12373,  37525,27530, 8958, 16884, 18072,\n",
        "           4478, 7940, 16400, 16656]\n",
        "train_data = train_data.query('index not in @ind_list')\n",
        "train_data.index = range(0, len(train_data))"
      ],
      "execution_count": null,
      "outputs": []
    },
    {
      "cell_type": "markdown",
      "metadata": {
        "id": "xqU7bGG5AbUy"
      },
      "source": [
        "get nouns using Mecab"
      ]
    },
    {
      "cell_type": "code",
      "metadata": {
        "colab": {
          "base_uri": "https://localhost:8080/"
        },
        "id": "odgVeGevAbUy",
        "outputId": "0150325a-26c5-4cbb-e57f-dee7c5264f26"
      },
      "source": [
        "X_train = []  # dict같은 형태로 저장(?)\n",
        "\n",
        "text = list(train_data['clear_text'])\n",
        "\n",
        "for i in tqdm(range(len(text))):\n",
        "    temp = []\n",
        "    temp = mecab.nouns(text[i])\n",
        "    temp = [word for word in temp if not word in stop_words] # 불용어 제거\n",
        "    temp = [word for word in temp if len(word) > 1]\n",
        "    X_train.append(temp)"
      ],
      "execution_count": null,
      "outputs": [
        {
          "output_type": "stream",
          "text": [
            "100%|██████████| 39958/39958 [01:15<00:00, 527.93it/s]\n"
          ],
          "name": "stderr"
        }
      ]
    },
    {
      "cell_type": "code",
      "metadata": {
        "colab": {
          "base_uri": "https://localhost:8080/"
        },
        "id": "cvN9cJ3IAbUy",
        "outputId": "6042253b-d1da-496d-e0f2-37942496c5b2"
      },
      "source": [
        "X_test = []\n",
        "\n",
        "text = list(test_data['clear_text'])\n",
        "\n",
        "for i in tqdm(range(len(text))):\n",
        "    temp = []\n",
        "    temp = mecab.nouns(text[i])\n",
        "    temp = [word for word in temp if not word in stop_words] # 불용어 제거\n",
        "    temp = [word for word in temp if len(word) > 1]\n",
        "    X_test.append(temp)"
      ],
      "execution_count": null,
      "outputs": [
        {
          "output_type": "stream",
          "text": [
            "100%|██████████| 5000/5000 [00:09<00:00, 521.38it/s]\n"
          ],
          "name": "stderr"
        }
      ]
    },
    {
      "cell_type": "markdown",
      "metadata": {
        "id": "aGe2ec8XAbUz"
      },
      "source": [
        "모델링 - Tokenizer"
      ]
    },
    {
      "cell_type": "code",
      "metadata": {
        "id": "GTm_BhjTAbUz"
      },
      "source": [
        "import tensorflow as tf\r\n"
      ],
      "execution_count": null,
      "outputs": []
    },
    {
      "cell_type": "code",
      "metadata": {
        "id": "wM673HQEAbUz"
      },
      "source": [
        "from tensorflow.keras.preprocessing.text import Tokenizer\r\n",
        "from tensorflow.keras.utils import to_categorical\r\n",
        "from tensorflow.keras.layers import *\r\n",
        "from tensorflow.keras.models import Sequential, load_model, Model\r\n",
        "from tensorflow.keras.callbacks import EarlyStopping, ModelCheckpoint,  ReduceLROnPlateau\r\n",
        "from tensorflow.keras.regularizers import *\r\n",
        "from tensorflow.keras.preprocessing.sequence import pad_sequences\r\n",
        "from tensorflow.keras.optimizers import Adam, RMSprop"
      ],
      "execution_count": null,
      "outputs": []
    },
    {
      "cell_type": "code",
      "metadata": {
        "id": "c4C2OeG8EaMN"
      },
      "source": [
        "tokenizer = Tokenizer()\r\n",
        "tokenizer.fit_on_texts(X_train)"
      ],
      "execution_count": null,
      "outputs": []
    },
    {
      "cell_type": "code",
      "metadata": {
        "colab": {
          "base_uri": "https://localhost:8080/"
        },
        "id": "9GNaxoXREaOQ",
        "outputId": "1c24a8a9-a384-480b-9245-e7e1644da7d4"
      },
      "source": [
        "threshold = 11  # 역치- 이것보다 많이 나온 단어는 유의미하다...-> 파라미터의 하나가 될 수 있을 듯\r\n",
        "total_cnt = len(tokenizer.word_index) # 단어의 수\r\n",
        "rare_cnt = 0 # 등장 빈도수가 threshold보다 작은 단어 개수 카운트\r\n",
        "total_freq = 0 # 훈련 데이터의 전체 단어 빈도수 총 합\r\n",
        "rare_freq = 0 # 등장 빈도수가 threshold보다 작은 단어의 등장 빈도수의 총 합\r\n",
        "\r\n",
        "\"\"\"\r\n",
        "단어 & 빈도수의 쌍을 key 와 value로 받는다.\r\n",
        "\"\"\"\r\n",
        "for key, value in tokenizer.word_counts.items():  ## tokenizer.word_counts -> key 단어 value 빈도수로 구성된 dict\r\n",
        "  total_freq = total_freq + value\r\n",
        "\r\n",
        "  if(value < threshold):\r\n",
        "    rare_cnt = rare_cnt + 1\r\n",
        "    rare_freq = rare_freq + value\r\n",
        "\r\n",
        "print('단어 집합의 크기: ', total_cnt)\r\n",
        "print('등장 빈도수가 %s번 이하인 희귀 단어의 수 : %s'%(threshold-1, rare_cnt))\r\n",
        "print('단어 집합에서 희귀 단어의 비율 : ',(rare_cnt/total_cnt))\r\n",
        "print('전체 등장 빈도에서 희귀 단어 등장 빈도 비율 : ',(rare_freq/total_freq),\"%\")"
      ],
      "execution_count": null,
      "outputs": [
        {
          "output_type": "stream",
          "text": [
            "단어 집합의 크기:  45144\n",
            "등장 빈도수가 10번 이하인 희귀 단어의 수 : 32528\n",
            "단어 집합에서 희귀 단어의 비율 :  0.7205387205387206\n",
            "전체 등장 빈도에서 희귀 단어 등장 빈도 비율 :  0.032528203776260645 %\n"
          ],
          "name": "stdout"
        }
      ]
    },
    {
      "cell_type": "code",
      "metadata": {
        "id": "3DUhJV-PEaQR"
      },
      "source": [
        ""
      ],
      "execution_count": null,
      "outputs": []
    },
    {
      "cell_type": "code",
      "metadata": {
        "id": "RPeHG0C0EaSi"
      },
      "source": [
        ""
      ],
      "execution_count": null,
      "outputs": []
    },
    {
      "cell_type": "code",
      "metadata": {
        "id": "2PCV3yJpEaU9"
      },
      "source": [
        ""
      ],
      "execution_count": null,
      "outputs": []
    }
  ]
}